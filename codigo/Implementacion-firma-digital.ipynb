{
 "cells": [
  {
   "cell_type": "markdown",
   "metadata": {},
   "source": [
    "# Implementación de la Firma Digital\n",
    "\n",
    "Se va implementar un sistema de firma digital y verificación de la firma con RSA. Para ello se deben de realizar tres tareas: **generación de claves**, **generación de firma** y **verificación de firma**."
   ]
  },
  {
   "cell_type": "markdown",
   "metadata": {},
   "source": [
    "## 1. Generación de claves"
   ]
  },
  {
   "cell_type": "markdown",
   "metadata": {},
   "source": [
    "Para la **generación de la clave**, nos basamos en la función que implementa un $RSA$.\n",
    "\n",
    "1. Para elegir la pareja de claves, lo primero que necesitamos es elegir dos primos grandes $p$ y $q$, y calcular su producto $n = p \\cdot q$.\n",
    "2. Ahora se elige un entero $e$ tal que $mcd(e,\\phi(n)) = 1$. Recordemos que $\\phi(n) = (p-1)\\cdot(q-1)$. Ambos valores, $(n, e)$ constituyen la clave pública del criptosistema. El número $n$ se conoce como módulo del Criptosistema.\n",
    "3. La clave privada es un entero $d$ tal que $d \\cdot e = 1 \\pmod {\\phi(n)}$.\n",
    "\n",
    "#### Generación de claves RSA\n",
    "\n",
    "Dichas claves, serán guardadas en un fichero.\n",
    "    \n",
    "- **Entrada**: \n",
    "    - o _p,q_ como dos primos grandes \n",
    "    - o que se generen ambos primos dentro de la función de manera aleatoria\n",
    "    \n",
    "- **Salida**:\n",
    "    - _e,n_: clave pública\n",
    "    - _d_: clave privada"
   ]
  },
  {
   "cell_type": "code",
   "execution_count": 1,
   "metadata": {},
   "outputs": [],
   "source": [
    "import fun_auxiliares as aux\n",
    "\n",
    "# Función que calcula el siguiente primo\n",
    "# --------------------------------------------------------------------------------------------\n",
    "def NextPrime(p):\n",
    "    \n",
    "    if p%2==0:\n",
    "        p=p+1\n",
    "    \n",
    "    while (not aux.alg_miller_rabin(p)):\n",
    "        p+=2\n",
    "    \n",
    "    return p"
   ]
  },
  {
   "cell_type": "code",
   "execution_count": 2,
   "metadata": {},
   "outputs": [],
   "source": [
    "import random\n",
    "import fun_auxiliares as aux\n",
    "\n",
    "# Método para generar una clave\n",
    "# --------------------------------------------------------------------------------------------\n",
    "def generacion_claves():\n",
    "\n",
    "    # Por seguridad es conveniente elegir dos números de manera aleatoria\n",
    "    p = random.randint(1, 1000000000000000)\n",
    "    q = random.randint(1, 1000000000000000)\n",
    "    \n",
    "    # Si p no es primo, forzamos a que sea\n",
    "    p = NextPrime(p)\n",
    "    \n",
    "    # Si q no es primo, forzamos a que sea\n",
    "    q = NextPrime(q)\n",
    "    \n",
    "    # Realizamos su producto\n",
    "    n = p*q\n",
    "    \n",
    "    # Calculamos phi\n",
    "    phi = (p-1)*(q-1)\n",
    "    \n",
    "    e = 2\n",
    "    # Elegimos un número 'e' que sea primo relativo con phi_n, sino aumentamos uno 'e'\n",
    "    while(aux.alg_euclides_v2(phi,e)[0] != 1):\n",
    "        e = e +1\n",
    "    \n",
    "    # Para hallar la clave privada resolvemos la congruencia e·d = 1 (mod phi_n)\n",
    "    # es decir, calculamos el inverso de 'e' en Z(phi_n)\n",
    "    d = aux.alg_inverso(e,phi)\n",
    "    \n",
    "    # Abrimos los ficheros donde se guardarán las claves (debe tener permiso de escritura)\n",
    "    try:\n",
    "        f_pub = open(\"clave_publica\", \"w\")\n",
    "        f_priv = open(\"clave_privada\", \"w\")\n",
    "    except:\n",
    "        print(\"Error abriendo los ficheros de las claves.\")\n",
    "        \n",
    "    # Escribimos en un fichero la clave publica y privada, separando e y d de n con un espacio\n",
    "    # Clave Pública\n",
    "    f_pub.write(str(e)+\" \")\n",
    "    f_pub.write(str(n))\n",
    "    # Clave Privada\n",
    "    f_priv.write(str(d)+\" \")\n",
    "    f_priv.write(str(n))\n",
    "    \n",
    "    # Devolvemos las claves\n",
    "    return e, n, d"
   ]
  },
  {
   "cell_type": "code",
   "execution_count": 3,
   "metadata": {},
   "outputs": [
    {
     "name": "stdout",
     "output_type": "stream",
     "text": [
      "11 156715375538224370009061822677 85481113929939985489162164131\n"
     ]
    }
   ],
   "source": [
    "# Para comprobar: e,n (clave publica) y d (clave privada)\n",
    "e, n, d = generacion_claves()\n",
    "print(e, n, d)"
   ]
  },
  {
   "cell_type": "markdown",
   "metadata": {},
   "source": [
    "## 2. Generación de firma"
   ]
  },
  {
   "cell_type": "markdown",
   "metadata": {},
   "source": [
    "Para la **generación de la firma**, se le introducirá un mensaje a cifrar (fichero) y el fichero con la clave (privada), y deberá generar una firma, que se guardará en un fichero de texto.\n",
    "\n",
    "Puesto que lo que realmente se firma no es el mensaje, sino un resumen del mensaje, hay que generar un resumen de dicho mensaje. Para esto emplearemos la función SHA1 (se pueden añadir otras funciones resumen). \n",
    "\n",
    "_Para la función SHA1_, usaremos la librería de Python **hashlib**, que ya implementa esa función.\n",
    "\n",
    "#### Generación de firma RSA  \n",
    "\n",
    "Como podemos ver en los apuntes, para generar una firma, solo nos bastaría hacer $fir(r) = r^d \\pmod n$. Por tanto, el mensaje firmado sería el par $(r, fir(r))$.\n",
    "    \n",
    "- **Entrada**:\n",
    "    - _mensaje_: nombre del fichero del mensaje a firmar en string\n",
    "    - _clave-privada_: nombre del fichero de la clave privada en string (contiene d y n)\n",
    "        \n",
    "- **Salida**:\n",
    "    - _f_: firma del resumen del mensaje"
   ]
  },
  {
   "cell_type": "code",
   "execution_count": 4,
   "metadata": {},
   "outputs": [],
   "source": [
    "import hashlib \n",
    "import fun_auxiliares as aux\n",
    "\n",
    "# Método para generar la firma\n",
    "# --------------------------------------------------------------------------------------------\n",
    "def generacion_firma(mensaje, clave_privada):\n",
    "\n",
    "    # Abrimos el fichero de mensaje\n",
    "    try:\n",
    "        myfile = open(mensaje, encoding='utf-8')\n",
    "    except:\n",
    "        print(\"Error abriendo el fichero del mensaje.\")\n",
    "    \n",
    "    # Lo guardamos en una variable \n",
    "    m = myfile.read()  \n",
    "    m = m.encode(\"utf-8\")\n",
    "\n",
    "    # Calculamos un resumen del mensaje\n",
    "    r = hashlib.sha1(m).hexdigest()\n",
    "    \n",
    "    # Como la salida de 'r' es en hexadecimal,\n",
    "    # la convertimos a entero base 10 para poder operar con el resumen\n",
    "    r = int(\"0x\"+r, 0)\n",
    "    \n",
    "    # Leemos la clave del fichero\n",
    "    try:\n",
    "        f_priv = open(\"clave_privada\")\n",
    "    except:\n",
    "        print(\"Error abriendo el fichero de la clave privada.\")\n",
    "        \n",
    "    clave = f_priv.read().split(\" \")\n",
    "    d = int(clave[0])\n",
    "    n = int(clave[1])\n",
    "    \n",
    "    # Generamos la firma (firma del resumen)\n",
    "    f = aux.alg_potencia(r,d,n)\n",
    "    \n",
    "    try:\n",
    "        f_firma = open(\"firma\",\"w\")\n",
    "    except:\n",
    "        print(\"Error abriendo el fichero firma.\")\n",
    "        \n",
    "    # Escribios la firma en el archivo    \n",
    "    f_firma.write(str(f))\n",
    "    \n",
    "    # Devolvemos la firma\n",
    "    return f"
   ]
  },
  {
   "cell_type": "code",
   "execution_count": 6,
   "metadata": {},
   "outputs": [
    {
     "name": "stdout",
     "output_type": "stream",
     "text": [
      "153628067459055100918638374785\n"
     ]
    }
   ],
   "source": [
    "# Para comprobar\n",
    "\n",
    "# Nombre del fichero de la clave privada\n",
    "clave_privada = \"clave_privada\"\n",
    "\n",
    "# Nombre del fichero del mensaje\n",
    "mensaje = \"mensaje\"\n",
    "\n",
    "firma = generacion_firma(mensaje, clave_privada)\n",
    "print(firma)"
   ]
  },
  {
   "cell_type": "markdown",
   "metadata": {},
   "source": [
    "## 3. Verificación de la firma"
   ]
  },
  {
   "cell_type": "markdown",
   "metadata": {},
   "source": [
    "Para la **verificación de la firma**, se introduce el mensaje (fichero) que se ha firmado, un fichero con la firma (con el mismo formato que el generado en el apartado anterior) y un fichero con la clave (pública). Deberá responder si la firma es o no válida.\n",
    "\n",
    "#### Verificación de firma RSA  \n",
    "\n",
    "Como podemos ver en los apuntes, para comprobar si la firma es válida, habría que hacer si $r = fir(r)^e \\pmod n$.\n",
    "\n",
    "- **Entrada**:\n",
    "    - _clave-publica_: nombre del fichero de la clave pública en string (e y n)\n",
    "    - _mensaje_: nombre del fichero del mensaje a verificar en string\n",
    "    - _firma_: nombre del fichero de firma en string\n",
    "    \n",
    "- **Salida**:\n",
    "    - _True_: si la firma es correcta\n",
    "    - _False_: si la firma no es correcta"
   ]
  },
  {
   "cell_type": "code",
   "execution_count": 7,
   "metadata": {},
   "outputs": [],
   "source": [
    "import hashlib \n",
    "import fun_auxiliares as aux\n",
    "\n",
    "# Método para verificar la firma\n",
    "# --------------------------------------------------------------------------------------------\n",
    "def verificacion_firma(clave_publica, mensaje, firma):\n",
    "   \n",
    "    # Abrimos el fichero de mensaje\n",
    "    try:\n",
    "        myfile = open(mensaje, encoding='utf-8')\n",
    "    except:\n",
    "        print(\"Error abriendo el fichero del mensaje.\")\n",
    "    \n",
    "    # Lo guardamos en una variable como string\n",
    "    m = myfile.read()\n",
    "    m = m.encode(\"utf-8\")\n",
    "    \n",
    "    # Calculamos un resumen del mensaje\n",
    "    r = hashlib.sha1(m).hexdigest()\n",
    "    \n",
    "    # Como la salida de 'r' es en hexadecimal,\n",
    "    # la convertimos a entero base 10 para poder operar con el resumen\n",
    "    r = int(\"0x\"+r,0)\n",
    "    \n",
    "    # Leemos la clave del fichero\n",
    "    try:\n",
    "        f_pub = open(\"clave_publica\")\n",
    "    except:\n",
    "        print(\"Error abriendo el fichero de la clave pública.\")\n",
    "    \n",
    "    clave = f_pub.read().split(\" \")\n",
    "    e = int(clave[0])\n",
    "    n = int(clave[1])\n",
    "    \n",
    "    # Leemos el fichero con la firma\n",
    "    try:\n",
    "        f_firma = open(\"firma\")\n",
    "    except:\n",
    "        print(\"Error abriendo el fichero de la firma.\")\n",
    "    \n",
    "    f = int(f_firma.read())\n",
    "    \n",
    "    # Verificamos la firma\n",
    "    v = aux.alg_potencia(f,e,n)\n",
    "\n",
    "    # Si la verificacion coincide con la función resumen es válidad\n",
    "    if(v%n == r%n): \n",
    "        return True # Firma válida\n",
    "    else:\n",
    "        return False # Firma no válidad"
   ]
  },
  {
   "cell_type": "code",
   "execution_count": 8,
   "metadata": {
    "scrolled": false
   },
   "outputs": [
    {
     "data": {
      "text/plain": [
       "True"
      ]
     },
     "execution_count": 8,
     "metadata": {},
     "output_type": "execute_result"
    }
   ],
   "source": [
    "# Nombre del fichero de la clave privada\n",
    "clave_privada = \"clave_privada\"\n",
    "\n",
    "# Nombre del fichero de la clave pública\n",
    "clave_publica = \"clave_publica\"\n",
    "\n",
    "# Nombre del fichero del mensaje\n",
    "mensaje = \"mensaje\"\n",
    "\n",
    "# Nombre del fichero de la firma\n",
    "firma = \"firma\" \n",
    "\n",
    "# Hacemos la Firma RSA\n",
    "generacion_claves()\n",
    "generacion_firma(mensaje, clave_privada)\n",
    "verificacion_firma(clave_publica, mensaje, firma)"
   ]
  },
  {
   "cell_type": "markdown",
   "metadata": {},
   "source": [
    "Para comprobar que la verificación funciona, si editamos el fichero de firma y realizamos de nuevo la verificación, obtenemos un valor False."
   ]
  }
 ],
 "metadata": {
  "kernelspec": {
   "display_name": "Python 3",
   "language": "python",
   "name": "python3"
  },
  "language_info": {
   "codemirror_mode": {
    "name": "ipython",
    "version": 3
   },
   "file_extension": ".py",
   "mimetype": "text/x-python",
   "name": "python",
   "nbconvert_exporter": "python",
   "pygments_lexer": "ipython3",
   "version": "3.6.7"
  }
 },
 "nbformat": 4,
 "nbformat_minor": 2
}
